{
 "cells": [
  {
   "cell_type": "code",
   "execution_count": 29,
   "id": "115d46af",
   "metadata": {},
   "outputs": [],
   "source": [
    "from collections import Counter"
   ]
  },
  {
   "cell_type": "code",
   "execution_count": 72,
   "id": "6c0a4233",
   "metadata": {},
   "outputs": [],
   "source": [
    "str_sample = \"abc\""
   ]
  },
  {
   "cell_type": "code",
   "execution_count": 73,
   "id": "03926db0",
   "metadata": {},
   "outputs": [],
   "source": [
    "slst = list(str_sample)"
   ]
  },
  {
   "cell_type": "code",
   "execution_count": 74,
   "id": "5c25152e",
   "metadata": {},
   "outputs": [],
   "source": [
    "\n",
    "most_common,num_most_common = Counter(slst).most_common(1)[0] "
   ]
  },
  {
   "cell_type": "code",
   "execution_count": 75,
   "id": "83d8f63e",
   "metadata": {},
   "outputs": [
    {
     "data": {
      "text/plain": [
       "1"
      ]
     },
     "execution_count": 75,
     "metadata": {},
     "output_type": "execute_result"
    }
   ],
   "source": [
    "num_most_common"
   ]
  },
  {
   "cell_type": "code",
   "execution_count": 76,
   "id": "323d7a0b",
   "metadata": {},
   "outputs": [
    {
     "data": {
      "text/plain": [
       "'a'"
      ]
     },
     "execution_count": 76,
     "metadata": {},
     "output_type": "execute_result"
    }
   ],
   "source": [
    "most_common"
   ]
  },
  {
   "cell_type": "code",
   "execution_count": 77,
   "id": "63b2005d",
   "metadata": {},
   "outputs": [],
   "source": [
    " test_dict  = dict(Counter(slst))"
   ]
  },
  {
   "cell_type": "code",
   "execution_count": 78,
   "id": "a0b0126e",
   "metadata": {},
   "outputs": [],
   "source": [
    "res = len(list(set(list(test_dict.values())))) == 1\n"
   ]
  },
  {
   "cell_type": "code",
   "execution_count": 79,
   "id": "a51b19a3",
   "metadata": {},
   "outputs": [
    {
     "data": {
      "text/plain": [
       "True"
      ]
     },
     "execution_count": 79,
     "metadata": {},
     "output_type": "execute_result"
    }
   ],
   "source": [
    "res"
   ]
  },
  {
   "cell_type": "code",
   "execution_count": 80,
   "id": "0b6e8dd1",
   "metadata": {},
   "outputs": [],
   "source": [
    "res1 = True"
   ]
  },
  {
   "cell_type": "code",
   "execution_count": 81,
   "id": "2594c98f",
   "metadata": {},
   "outputs": [],
   "source": [
    "if res == False:\n",
    "    max_value_key = max(test_dict, key=test_dict.get)\n",
    "    test_dict[max_value_key] -=1\n",
    "    res1 = len(list(set(list(test_dict.values())))) == 1\n"
   ]
  },
  {
   "cell_type": "code",
   "execution_count": 82,
   "id": "03f88c9f",
   "metadata": {},
   "outputs": [
    {
     "data": {
      "text/plain": [
       "{'a': 1, 'b': 1, 'c': 1}"
      ]
     },
     "execution_count": 82,
     "metadata": {},
     "output_type": "execute_result"
    }
   ],
   "source": [
    "test_dict"
   ]
  },
  {
   "cell_type": "code",
   "execution_count": 83,
   "id": "950c15b1",
   "metadata": {},
   "outputs": [
    {
     "name": "stdout",
     "output_type": "stream",
     "text": [
      "Yes\n"
     ]
    }
   ],
   "source": [
    "if res1 == True or res == True:\n",
    "    print(\"Yes\")\n",
    "else:\n",
    "    print(\"No\")"
   ]
  },
  {
   "cell_type": "code",
   "execution_count": null,
   "id": "8e3dd68d",
   "metadata": {},
   "outputs": [],
   "source": []
  },
  {
   "cell_type": "code",
   "execution_count": null,
   "id": "02cc1cb2",
   "metadata": {},
   "outputs": [],
   "source": []
  },
  {
   "cell_type": "code",
   "execution_count": null,
   "id": "17c3637a",
   "metadata": {},
   "outputs": [],
   "source": []
  }
 ],
 "metadata": {
  "kernelspec": {
   "display_name": "Python 3 (ipykernel)",
   "language": "python",
   "name": "python3"
  },
  "language_info": {
   "codemirror_mode": {
    "name": "ipython",
    "version": 3
   },
   "file_extension": ".py",
   "mimetype": "text/x-python",
   "name": "python",
   "nbconvert_exporter": "python",
   "pygments_lexer": "ipython3",
   "version": "3.10.2"
  }
 },
 "nbformat": 4,
 "nbformat_minor": 5
}
