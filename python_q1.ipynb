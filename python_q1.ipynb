{
 "cells": [
  {
   "cell_type": "code",
   "execution_count": 71,
   "id": "700caf2d",
   "metadata": {},
   "outputs": [],
   "source": [
    "import statistics"
   ]
  },
  {
   "cell_type": "code",
   "execution_count": 79,
   "id": "50d1402b",
   "metadata": {},
   "outputs": [],
   "source": [
    "sample_str = \"write write write all the number from from from 1 to 100\""
   ]
  },
  {
   "cell_type": "code",
   "execution_count": 80,
   "id": "7a86a1a7",
   "metadata": {},
   "outputs": [],
   "source": [
    "ls = str.split(sample_str)"
   ]
  },
  {
   "cell_type": "code",
   "execution_count": 81,
   "id": "9ae1ebac",
   "metadata": {},
   "outputs": [
    {
     "name": "stdout",
     "output_type": "stream",
     "text": [
      "['write', 'write', 'write', 'all', 'the', 'number', 'from', 'from', 'from', '1', 'to', '100']\n"
     ]
    }
   ],
   "source": [
    "print(ls)"
   ]
  },
  {
   "cell_type": "code",
   "execution_count": 82,
   "id": "fdc098b9",
   "metadata": {},
   "outputs": [],
   "source": [
    "max_rep = statistics.multimode(ls)"
   ]
  },
  {
   "cell_type": "code",
   "execution_count": 83,
   "id": "618d88df",
   "metadata": {},
   "outputs": [
    {
     "data": {
      "text/plain": [
       "['write', 'from']"
      ]
     },
     "execution_count": 83,
     "metadata": {},
     "output_type": "execute_result"
    }
   ],
   "source": [
    "max_rep"
   ]
  },
  {
   "cell_type": "code",
   "execution_count": 84,
   "id": "94292adc",
   "metadata": {},
   "outputs": [],
   "source": [
    "answer = max(max_rep, key=len)"
   ]
  },
  {
   "cell_type": "code",
   "execution_count": 85,
   "id": "867b19b0",
   "metadata": {},
   "outputs": [
    {
     "name": "stdout",
     "output_type": "stream",
     "text": [
      "Final answer: write\n"
     ]
    }
   ],
   "source": [
    "print(f\"Final answer: {answer}\")"
   ]
  },
  {
   "cell_type": "code",
   "execution_count": null,
   "id": "0dcd6fca",
   "metadata": {},
   "outputs": [],
   "source": []
  },
  {
   "cell_type": "code",
   "execution_count": null,
   "id": "4ee18e80",
   "metadata": {},
   "outputs": [],
   "source": []
  }
 ],
 "metadata": {
  "kernelspec": {
   "display_name": "Python 3 (ipykernel)",
   "language": "python",
   "name": "python3"
  },
  "language_info": {
   "codemirror_mode": {
    "name": "ipython",
    "version": 3
   },
   "file_extension": ".py",
   "mimetype": "text/x-python",
   "name": "python",
   "nbconvert_exporter": "python",
   "pygments_lexer": "ipython3",
   "version": "3.10.2"
  }
 },
 "nbformat": 4,
 "nbformat_minor": 5
}
